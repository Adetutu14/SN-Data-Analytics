{
 "cells": [
  {
   "cell_type": "code",
   "execution_count": 1,
   "metadata": {},
   "outputs": [
    {
     "data": {
      "text/plain": [
       "1000"
      ]
     },
     "execution_count": 1,
     "metadata": {},
     "output_type": "execute_result"
    }
   ],
   "source": [
    "#Assignment 1\n",
    "\n",
    "int(\"1000\")\n"
   ]
  },
  {
   "cell_type": "code",
   "execution_count": 2,
   "metadata": {},
   "outputs": [
    {
     "data": {
      "text/plain": [
       "3"
      ]
     },
     "execution_count": 2,
     "metadata": {},
     "output_type": "execute_result"
    }
   ],
   "source": [
    "#Assignment 2\n",
    "\n",
    "int(3.764)"
   ]
  },
  {
   "cell_type": "code",
   "execution_count": 3,
   "metadata": {},
   "outputs": [
    {
     "name": "stdout",
     "output_type": "stream",
     "text": [
      "$99.45 dollars\n"
     ]
    }
   ],
   "source": [
    "#Assignment 3\n",
    "\n",
    "bus_exp = 99.45\n",
    "value = str(bus_exp)\n",
    "print(\"$\"+ value, \"dollars\")"
   ]
  },
  {
   "cell_type": "code",
   "execution_count": 4,
   "metadata": {},
   "outputs": [
    {
     "name": "stdout",
     "output_type": "stream",
     "text": [
      "<class 'float'>\n"
     ]
    }
   ],
   "source": [
    "#Assignment 4\n",
    "\n",
    "#Ans = The type function determines the class or blueprint form which objects are made. e.g.\n",
    "\n",
    "num =  3.8\n",
    "print(type(num))"
   ]
  },
  {
   "cell_type": "code",
   "execution_count": 5,
   "metadata": {},
   "outputs": [],
   "source": [
    "#Assignment 5\n",
    "\n",
    "#Ans 1 = Boolean is a data type that can be either True or false.\n",
    " #Ans 2 = Their possible values are True and false."
   ]
  },
  {
   "cell_type": "code",
   "execution_count": 6,
   "metadata": {},
   "outputs": [
    {
     "name": "stdout",
     "output_type": "stream",
     "text": [
      "2\n"
     ]
    }
   ],
   "source": [
    "#Assignment 6\n",
    "\n",
    "#Ans 1 = % operator is called Modulo.\n",
    "# Ans 2 = In this case, the output of the operation is the remainder mostly from division.e.g.\n",
    "\n",
    "mod = (14%3)\n",
    "print(mod)"
   ]
  },
  {
   "cell_type": "code",
   "execution_count": 7,
   "metadata": {},
   "outputs": [
    {
     "name": "stdout",
     "output_type": "stream",
     "text": [
      "Adetutu\n"
     ]
    }
   ],
   "source": [
    "#Assignment 7\n",
    "\n",
    "fancy_name = \"Adetutu\"\n",
    "print(fancy_name)\n",
    "    \n",
    "    "
   ]
  },
  {
   "cell_type": "code",
   "execution_count": 8,
   "metadata": {},
   "outputs": [
    {
     "data": {
      "text/plain": [
       "7200"
      ]
     },
     "execution_count": 8,
     "metadata": {},
     "output_type": "execute_result"
    }
   ],
   "source": [
    "#Assignment 8\n",
    "def hr_to_secs(hr):\n",
    "    secs = (hr*3600)\n",
    "    return (secs)\n",
    "    \n",
    "conversion = hr_to_secs(2)\n",
    "conversion   "
   ]
  },
  {
   "cell_type": "code",
   "execution_count": 4,
   "metadata": {},
   "outputs": [
    {
     "data": {
      "text/plain": [
       "100"
      ]
     },
     "execution_count": 4,
     "metadata": {},
     "output_type": "execute_result"
    }
   ],
   "source": [
    "#Assignment 9a\n",
    " \n",
    "def easy_money_func():\n",
    "    return(100)\n",
    "    \n",
    "easy_money_func()\n"
   ]
  },
  {
   "cell_type": "code",
   "execution_count": 2,
   "metadata": {},
   "outputs": [
    {
     "data": {
      "text/plain": [
       "'Sushi'"
      ]
     },
     "execution_count": 2,
     "metadata": {},
     "output_type": "execute_result"
    }
   ],
   "source": [
    "#Assignment 9b\n",
    "\n",
    "def best_food_ever_func():\n",
    "    return(\"Sushi\")\n",
    "\n",
    "best_food_ever_func()"
   ]
  },
  {
   "cell_type": "code",
   "execution_count": 24,
   "metadata": {},
   "outputs": [
    {
     "name": "stdout",
     "output_type": "stream",
     "text": [
      "$300\n"
     ]
    }
   ],
   "source": [
    "#Assignment 9c\n",
    "\n",
    "def convert_to_currency_func(int): \n",
    "    curr = print(\"$\" + str(int))\n",
    "    return (curr)\n",
    "convert_to_currency_func(300)\n",
    "                 "
   ]
  },
  {
   "cell_type": "code",
   "execution_count": 36,
   "metadata": {},
   "outputs": [
    {
     "name": "stdout",
     "output_type": "stream",
     "text": [
      "Hello Adetutu\n"
     ]
    }
   ],
   "source": [
    "#Assignment 10\n",
    "\n",
    "def string_adder(a,b):\n",
    "    print(str(a), str(b))\n",
    "    return\n",
    "\n",
    "string_adder(\"Hello\", \"Adetutu\")\n",
    "\n"
   ]
  },
  {
   "cell_type": "code",
   "execution_count": 33,
   "metadata": {},
   "outputs": [
    {
     "name": "stdout",
     "output_type": "stream",
     "text": [
      "\n"
     ]
    }
   ],
   "source": [
    "def string_adder ():\n",
    "    \n",
    "    print(str())\n",
    "    return\n",
    "  \n",
    "string_adder()\n"
   ]
  },
  {
   "cell_type": "code",
   "execution_count": null,
   "metadata": {},
   "outputs": [],
   "source": []
  }
 ],
 "metadata": {
  "kernelspec": {
   "display_name": "Python 3",
   "language": "python",
   "name": "python3"
  },
  "language_info": {
   "codemirror_mode": {
    "name": "ipython",
    "version": 3
   },
   "file_extension": ".py",
   "mimetype": "text/x-python",
   "name": "python",
   "nbconvert_exporter": "python",
   "pygments_lexer": "ipython3",
   "version": "3.8.5"
  }
 },
 "nbformat": 4,
 "nbformat_minor": 4
}
