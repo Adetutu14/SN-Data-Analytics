{
 "cells": [
  {
   "cell_type": "markdown",
   "metadata": {},
   "source": [
    "Steps I took for this assignment"
   ]
  },
  {
   "cell_type": "markdown",
   "metadata": {},
   "source": [
    "1). Installed git."
   ]
  },
  {
   "cell_type": "markdown",
   "metadata": {},
   "source": [
    "2). Signup on git hub."
   ]
  },
  {
   "cell_type": "markdown",
   "metadata": {},
   "source": [
    "3). Create a new repository."
   ]
  },
  {
   "cell_type": "markdown",
   "metadata": {},
   "source": [
    "Steps I took in Creating a folder \"first assignment\" on github repository."
   ]
  },
  {
   "cell_type": "markdown",
   "metadata": {},
   "source": [
    "1). On github repository, selected add file and created new file to create a folder."
   ]
  },
  {
   "cell_type": "markdown",
   "metadata": {},
   "source": [
    "2).  Named the folder \"first assignment\" and a file in it \"readme\"."
   ]
  },
  {
   "cell_type": "markdown",
   "metadata": {},
   "source": [
    "3). Clicked on commit new file to establish the folder on repository."
   ]
  },
  {
   "cell_type": "markdown",
   "metadata": {},
   "source": [
    "4). As directed by the first video sent on git , created ssh key and then copied from the git hub."
   ]
  },
  {
   "cell_type": "markdown",
   "metadata": {},
   "source": [
    "5). Changed my workspace directory using cd command to the desktop and then cloned on git bash including the url copied from git hub."
   ]
  },
  {
   "cell_type": "markdown",
   "metadata": {},
   "source": [
    "  6). Changed my work directory space on desktop using cd command on git bash to sn data analytics folder."
   ]
  },
  {
   "cell_type": "markdown",
   "metadata": {},
   "source": [
    "Steps in Pushing an Empty Notebook to repository"
   ]
  },
  {
   "cell_type": "markdown",
   "metadata": {},
   "source": [
    "1).Downloaded Anaconda and Launched Jupyter."
   ]
  },
  {
   "cell_type": "markdown",
   "metadata": {},
   "source": [
    "2). Switched to file explorer and opened a new folder for the empty notebook , \"Another folder\""
   ]
  },
  {
   "cell_type": "markdown",
   "metadata": {},
   "source": [
    "3). Switched to Jupyter to confirm and then selected \"desktop\", then \"sn data analytics\", then \"another folder\"."
   ]
  },
  {
   "cell_type": "markdown",
   "metadata": {},
   "source": [
    "4). On \"Another folder\", selected new to create the empty notebook and renamed it with my PIN."
   ]
  },
  {
   "cell_type": "markdown",
   "metadata": {},
   "source": [
    "5). Switched to git bash, used the git add, then git commit and git push command to push the file."
   ]
  },
  {
   "cell_type": "markdown",
   "metadata": {},
   "source": [
    "6). Switched to to confirm the folder and the empty notebook in the folder on the repository."
   ]
  },
  {
   "cell_type": "markdown",
   "metadata": {},
   "source": [
    "Challenges"
   ]
  },
  {
   "cell_type": "code",
   "execution_count": null,
   "metadata": {},
   "outputs": [],
   "source": []
  }
 ],
 "metadata": {
  "kernelspec": {
   "display_name": "Python 3",
   "language": "python",
   "name": "python3"
  },
  "language_info": {
   "codemirror_mode": {
    "name": "ipython",
    "version": 3
   },
   "file_extension": ".py",
   "mimetype": "text/x-python",
   "name": "python",
   "nbconvert_exporter": "python",
   "pygments_lexer": "ipython3",
   "version": "3.8.5"
  }
 },
 "nbformat": 4,
 "nbformat_minor": 4
}
