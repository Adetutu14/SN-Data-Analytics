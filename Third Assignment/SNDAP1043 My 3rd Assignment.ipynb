{
 "cells": [
  {
   "cell_type": "markdown",
   "metadata": {},
   "source": [
    "15 Different Strings Method"
   ]
  },
  {
   "cell_type": "markdown",
   "metadata": {},
   "source": [
    "1. string.find()"
   ]
  },
  {
   "cell_type": "markdown",
   "metadata": {},
   "source": [
    "It helps to find the index position of a specified value. It is very similar to string.index(),except that in this case, if value not found, it returns -1. \n",
    "\n",
    "Note: It is different from string.rfind(), which finds the last occurence of a specified value.e.g. the last letter occurence in a string."
   ]
  },
  {
   "cell_type": "markdown",
   "metadata": {},
   "source": [
    "Usecase or Application = You can use this to check the first index of a reoccuring letter(s) in the string starting from any postion in the string. Also, when finding a substring(with 3 or more letter) from the main string it will give only the index position of the first letter of the subtring."
   ]
  },
  {
   "cell_type": "code",
   "execution_count": 5,
   "metadata": {},
   "outputs": [
    {
     "data": {
      "text/plain": [
       "2"
      ]
     },
     "execution_count": 5,
     "metadata": {},
     "output_type": "execute_result"
    }
   ],
   "source": [
    "book = \"Things fall apart\"\n",
    "\n",
    "book.find(\"in\")\n"
   ]
  },
  {
   "cell_type": "code",
   "execution_count": 8,
   "metadata": {},
   "outputs": [
    {
     "data": {
      "text/plain": [
       "12"
      ]
     },
     "execution_count": 8,
     "metadata": {},
     "output_type": "execute_result"
    }
   ],
   "source": [
    "#here, we are looking for a starting from index 9.\n",
    "#Code Block\n",
    "book = \"Things fall apart\"\n",
    "\n",
    "book.find(\"a\",9)\n"
   ]
  },
  {
   "cell_type": "markdown",
   "metadata": {},
   "source": [
    "2. string.count()"
   ]
  },
  {
   "cell_type": "markdown",
   "metadata": {},
   "source": [
    "This string helps to find the number of occurence in a string."
   ]
  },
  {
   "cell_type": "markdown",
   "metadata": {},
   "source": [
    "Application: I can use it to count the number of a particular letter in a long sentence in a string form.\n",
    "    Also, using it to count two or more letters that are together in a string. "
   ]
  },
  {
   "cell_type": "code",
   "execution_count": 18,
   "metadata": {},
   "outputs": [
    {
     "data": {
      "text/plain": [
       "5"
      ]
     },
     "execution_count": 18,
     "metadata": {},
     "output_type": "execute_result"
    }
   ],
   "source": [
    "#Codeblock\n",
    "Gibberish = \"difvmcsxnfrhrgfoscdnyhcdfdvdf\"\n",
    "\n",
    "Gibberish.count(\"f\")\n"
   ]
  },
  {
   "cell_type": "code",
   "execution_count": 25,
   "metadata": {},
   "outputs": [
    {
     "data": {
      "text/plain": [
       "3"
      ]
     },
     "execution_count": 25,
     "metadata": {},
     "output_type": "execute_result"
    }
   ],
   "source": [
    "#Here is counting \"cd\" from a point of index\n",
    "\n",
    "Gibberish = \"difcdvmcd,sxnfrcdhr gfoscdn yhcdfdvdf\"\n",
    "\n",
    "Gibberish.count(\"cd\",11)"
   ]
  },
  {
   "cell_type": "markdown",
   "metadata": {},
   "source": [
    "3. string.title()\n"
   ]
  },
  {
   "cell_type": "markdown",
   "metadata": {},
   "source": [
    "This method is ensure every word in a string has its first letter in capital."
   ]
  },
  {
   "cell_type": "code",
   "execution_count": null,
   "metadata": {},
   "outputs": [],
   "source": [
    "Application: I can use it when writing my name and surname and enuring the first letters of both mames are in c"
   ]
  }
 ],
 "metadata": {
  "kernelspec": {
   "display_name": "Python 3",
   "language": "python",
   "name": "python3"
  },
  "language_info": {
   "codemirror_mode": {
    "name": "ipython",
    "version": 3
   },
   "file_extension": ".py",
   "mimetype": "text/x-python",
   "name": "python",
   "nbconvert_exporter": "python",
   "pygments_lexer": "ipython3",
   "version": "3.8.5"
  }
 },
 "nbformat": 4,
 "nbformat_minor": 4
}
