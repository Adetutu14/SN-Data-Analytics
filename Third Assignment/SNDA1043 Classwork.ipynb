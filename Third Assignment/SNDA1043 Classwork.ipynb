{
 "cells": [
  {
   "cell_type": "markdown",
   "metadata": {},
   "source": [
    "### \tClass Work\n",
    "\n",
    "1) write a function that takes in a parameter and returns the total items in the\n",
    "parameters. \n",
    "\n",
    "Parameters:\n",
    "List\n",
    "Tuple\n",
    "\n",
    "i) The use of built-in functions len() or count() is not allowed.\n",
    "\n",
    "ii) The use of built-in functions len() or count() is allowed.\n",
    "\n",
    "\n",
    "2) Write a function that takes a list of integers as a parameter and returns the max element in the list. \n",
    "\n",
    "i) The use of built-in function max() is not allowed.\n",
    "ii) The use of built-in function max() is allowed.\n",
    "\n",
    "\n",
    "3) Write a function that takes a parameter and returns the reversed list. \n",
    "\n",
    "i) The use the built-in function reverse() and [::-1] is not allowed.\n",
    "ii) The use the built-in function reverse() is allowed\n",
    "\n",
    "\n",
    "4) Write a function that takes a list/tuple/dictionary(values will be integers) of integers as a parameter and returns their sum. \n",
    "\n",
    "1) The use the of built-in sum() function is not allowed.\n",
    "ii) The use the of built-in sum() function is allowed.\n",
    "\n",
    "5) write a function that stores user input (username and password) in a dictionary. The program should check if the username exist and if the password supplied is correct\n",
    "\n"
   ]
  },
  {
   "cell_type": "markdown",
   "metadata": {},
   "source": [
    "Answer 1"
   ]
  },
  {
   "cell_type": "code",
   "execution_count": 9,
   "metadata": {},
   "outputs": [],
   "source": [
    "# a)where len and count is not allowed.\n",
    "def counter1(parameter):\n",
    "    total_items = 0\n",
    "    for value in parameter:\n",
    "        total_items += 1\n",
    "        \n",
    "    return total_items\n",
    "\n",
    "\n"
   ]
  },
  {
   "cell_type": "code",
   "execution_count": 7,
   "metadata": {},
   "outputs": [
    {
     "data": {
      "text/plain": [
       "4"
      ]
     },
     "execution_count": 7,
     "metadata": {},
     "output_type": "execute_result"
    }
   ],
   "source": [
    "counter((\"2\", \"3\", \"w\", \"purse\"))"
   ]
  },
  {
   "cell_type": "code",
   "execution_count": 8,
   "metadata": {},
   "outputs": [
    {
     "data": {
      "text/plain": [
       "4"
      ]
     },
     "execution_count": 8,
     "metadata": {},
     "output_type": "execute_result"
    }
   ],
   "source": [
    "counter([\"2\", \"3\", \"w\", \"purse\"])"
   ]
  },
  {
   "cell_type": "code",
   "execution_count": 43,
   "metadata": {},
   "outputs": [
    {
     "data": {
      "text/plain": [
       "4"
      ]
     },
     "execution_count": 43,
     "metadata": {},
     "output_type": "execute_result"
    }
   ],
   "source": [
    "# b) where len or count is allowed\n",
    "\n",
    "counter2 = [\"3\", \"pen\", \"cake\", \"spoon\"]\n",
    "len(counter2)"
   ]
  },
  {
   "cell_type": "markdown",
   "metadata": {},
   "source": [
    "Answer 2"
   ]
  },
  {
   "cell_type": "code",
   "execution_count": 24,
   "metadata": {},
   "outputs": [],
   "source": [
    "#function that takes list of integers and returns the maximum element.\n",
    "#case 1, built in function max is not allowed.\n",
    "def max_num1(elements):\n",
    "    maximum = elements[0]\n",
    "    for element in elements:\n",
    "        if element > maximum:\n",
    "            maximum = element\n",
    "            \n",
    "    return maximum\n"
   ]
  },
  {
   "cell_type": "code",
   "execution_count": 31,
   "metadata": {},
   "outputs": [
    {
     "data": {
      "text/plain": [
       "9"
      ]
     },
     "execution_count": 31,
     "metadata": {},
     "output_type": "execute_result"
    }
   ],
   "source": [
    "max_num1([2,3,4,5,9,6])"
   ]
  },
  {
   "cell_type": "code",
   "execution_count": 32,
   "metadata": {},
   "outputs": [],
   "source": [
    "#case 2, built in function max is allowed\n",
    "\n",
    "def max_num2(elementz):\n",
    "    for element1 in elementz:\n",
    "        maximum2 = element.max(max_num2)\n",
    "        \n",
    "    return max_mum2\n",
    "    "
   ]
  },
  {
   "cell_type": "code",
   "execution_count": 38,
   "metadata": {},
   "outputs": [
    {
     "data": {
      "text/plain": [
       "7"
      ]
     },
     "execution_count": 38,
     "metadata": {},
     "output_type": "execute_result"
    }
   ],
   "source": [
    "max_num2 =[5,3,7,6,2]\n",
    "max(max_num2)"
   ]
  },
  {
   "cell_type": "markdown",
   "metadata": {},
   "source": [
    "Answer 3"
   ]
  },
  {
   "cell_type": "code",
   "execution_count": null,
   "metadata": {},
   "outputs": [],
   "source": [
    "#function that takes a paramenter and returns the reverse list\n",
    "#case 1: reverse() and [::-1] is not allowed \n",
    "\n"
   ]
  },
  {
   "cell_type": "code",
   "execution_count": 47,
   "metadata": {},
   "outputs": [
    {
     "ename": "SyntaxError",
     "evalue": "'return' outside function (<ipython-input-47-f46103d95c45>, line 5)",
     "output_type": "error",
     "traceback": [
      "\u001b[1;36m  File \u001b[1;32m\"<ipython-input-47-f46103d95c45>\"\u001b[1;36m, line \u001b[1;32m5\u001b[0m\n\u001b[1;33m    return vitamins.reverse()\u001b[0m\n\u001b[1;37m    ^\u001b[0m\n\u001b[1;31mSyntaxError\u001b[0m\u001b[1;31m:\u001b[0m 'return' outside function\n"
     ]
    }
   ],
   "source": [
    "#case 2: reverse() and [::-1] is allowed \n",
    "\n",
    "vitamins = [\"A\", \"B\", \"C\", \"K\", \"E\"]\n",
    "\n",
    "vitamins.reverse()"
   ]
  },
  {
   "cell_type": "code",
   "execution_count": null,
   "metadata": {},
   "outputs": [],
   "source": []
  }
 ],
 "metadata": {
  "kernelspec": {
   "display_name": "Python 3",
   "language": "python",
   "name": "python3"
  },
  "language_info": {
   "codemirror_mode": {
    "name": "ipython",
    "version": 3
   },
   "file_extension": ".py",
   "mimetype": "text/x-python",
   "name": "python",
   "nbconvert_exporter": "python",
   "pygments_lexer": "ipython3",
   "version": "3.8.5"
  }
 },
 "nbformat": 4,
 "nbformat_minor": 4
}
