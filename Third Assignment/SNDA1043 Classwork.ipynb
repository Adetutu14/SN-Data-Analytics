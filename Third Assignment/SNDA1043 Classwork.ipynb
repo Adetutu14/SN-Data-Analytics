{
 "cells": [
  {
   "cell_type": "markdown",
   "metadata": {},
   "source": [
    "### \tClass Work\n",
    "\n",
    "1) write a function that takes in a parameter and returns the total items in the\n",
    "parameters. \n",
    "\n",
    "Parameters:\n",
    "List\n",
    "Tuple\n",
    "\n",
    "i) The use of built-in functions len() or count() is not allowed.\n",
    "\n",
    "ii) The use of built-in functions len() or count() is allowed.\n",
    "\n",
    "\n",
    "2) Write a function that takes a list of integers as a parameter and returns the max element in the list. \n",
    "\n",
    "i) The use of built-in function max() is not allowed.\n",
    "ii) The use of built-in function max() is allowed.\n",
    "\n",
    "\n",
    "3) Write a function that takes a parameter and returns the reversed list. \n",
    "\n",
    "i) The use the built-in function reverse() and [::-1] is not allowed.\n",
    "ii) The use the built-in function reverse() is allowed\n",
    "\n",
    "\n",
    "4) Write a function that takes a list/tuple/dictionary(values will be integers) of integers as a parameter and returns their sum. \n",
    "\n",
    "1) The use the of built-in sum() function is not allowed.\n",
    "ii) The use the of built-in sum() function is allowed.\n",
    "\n",
    "5) write a function that stores user input (username and password) in a dictionary. The program should check if the username exist and if the password supplied is correct\n",
    "\n"
   ]
  },
  {
   "cell_type": "markdown",
   "metadata": {},
   "source": [
    "Answer 1"
   ]
  },
  {
   "cell_type": "code",
   "execution_count": 58,
   "metadata": {},
   "outputs": [],
   "source": [
    "#1A\n",
    "#where len and count is not allowed.\n",
    "def counteri(parameter):\n",
    "    total_item = 0\n",
    "    for value in parameter:\n",
    "        total_item += 1\n",
    "        \n",
    "    return total_item\n",
    "\n",
    "\n"
   ]
  },
  {
   "cell_type": "code",
   "execution_count": 59,
   "metadata": {},
   "outputs": [
    {
     "data": {
      "text/plain": [
       "4"
      ]
     },
     "execution_count": 59,
     "metadata": {},
     "output_type": "execute_result"
    }
   ],
   "source": [
    "counteri([\"2\", \"3\", \"w\", \"purse\"])"
   ]
  },
  {
   "cell_type": "code",
   "execution_count": 150,
   "metadata": {},
   "outputs": [],
   "source": [
    "#1B\n",
    "#where len or count is allowed\n",
    "\n",
    "def counterii(parameter):\n",
    "    total_itemb = len(parameter)\n",
    "    return total_itemb\n"
   ]
  },
  {
   "cell_type": "code",
   "execution_count": 55,
   "metadata": {},
   "outputs": [
    {
     "data": {
      "text/plain": [
       "4"
      ]
     },
     "execution_count": 55,
     "metadata": {},
     "output_type": "execute_result"
    }
   ],
   "source": [
    "counterii([\"3\", \"pen\", \"cake\", \"spoon\"])"
   ]
  },
  {
   "cell_type": "markdown",
   "metadata": {},
   "source": [
    "Answer 2"
   ]
  },
  {
   "cell_type": "code",
   "execution_count": 151,
   "metadata": {},
   "outputs": [],
   "source": [
    "#2A\n",
    "#function that takes list of integers and returns the maximum element.\n",
    "#case 1, built in function max is not allowed.\n",
    "def max_num1(elements):\n",
    "    maximum = elements[0]\n",
    "    for element in elements:\n",
    "        if element > maximum:\n",
    "            maximum = element\n",
    "            \n",
    "    return maximum\n"
   ]
  },
  {
   "cell_type": "code",
   "execution_count": 31,
   "metadata": {},
   "outputs": [
    {
     "data": {
      "text/plain": [
       "9"
      ]
     },
     "execution_count": 31,
     "metadata": {},
     "output_type": "execute_result"
    }
   ],
   "source": [
    "max_num1([2,3,4,5,9,6])"
   ]
  },
  {
   "cell_type": "code",
   "execution_count": 152,
   "metadata": {},
   "outputs": [],
   "source": [
    "#2B\n",
    "#case 2, built in function max is allowed\n",
    "\n",
    "def max_num2(elements):\n",
    "    the_num = max(elements)\n",
    "    return the_num\n",
    "    "
   ]
  },
  {
   "cell_type": "code",
   "execution_count": 61,
   "metadata": {},
   "outputs": [
    {
     "data": {
      "text/plain": [
       "7"
      ]
     },
     "execution_count": 61,
     "metadata": {},
     "output_type": "execute_result"
    }
   ],
   "source": [
    "max([5,3,7,6,2])"
   ]
  },
  {
   "cell_type": "markdown",
   "metadata": {},
   "source": [
    "Answer 3"
   ]
  },
  {
   "cell_type": "code",
   "execution_count": 103,
   "metadata": {},
   "outputs": [],
   "source": [
    "#3A\n",
    "#function that takes a paramenter and returns the reverse list\n",
    "#case 1: reverse() and [::-1] is not allowed \n",
    "def reverse_items(parameters):\n",
    "    the_rev = []\n",
    "    length = len(parameters)\n",
    "    for r in range(1,length+1):\n",
    "        the_rev.append(parameters[r*-1])\n",
    "        \n",
    "        \n",
    "    return the_rev"
   ]
  },
  {
   "cell_type": "code",
   "execution_count": 114,
   "metadata": {},
   "outputs": [
    {
     "data": {
      "text/plain": [
       "['G', 'F', 'E', 'D', 'C', 'B', 'A']"
      ]
     },
     "execution_count": 114,
     "metadata": {},
     "output_type": "execute_result"
    }
   ],
   "source": [
    "reverse_items(\"ABCDEFG\")"
   ]
  },
  {
   "cell_type": "code",
   "execution_count": 146,
   "metadata": {},
   "outputs": [
    {
     "data": {
      "text/plain": [
       "['G', 'F', 'E', 'D', 'C', 'B', 'A']"
      ]
     },
     "execution_count": 146,
     "metadata": {},
     "output_type": "execute_result"
    }
   ],
   "source": [
    "#3b\n",
    "#case 2: reverse() and [::-1] is allowed \n",
    "\n",
    "letters =(\"ABCDEFG\")\n",
    "\n",
    "list(letters[:: -1])"
   ]
  },
  {
   "cell_type": "code",
   "execution_count": 149,
   "metadata": {},
   "outputs": [
    {
     "data": {
      "text/plain": [
       "True"
      ]
     },
     "execution_count": 149,
     "metadata": {},
     "output_type": "execute_result"
    }
   ],
   "source": [
    "reverse_items(\"ABCDEFG\") == list(letters[: : -1])"
   ]
  },
  {
   "cell_type": "markdown",
   "metadata": {},
   "source": [
    "#### Answer 4"
   ]
  },
  {
   "cell_type": "code",
   "execution_count": 170,
   "metadata": {},
   "outputs": [],
   "source": [
    "#4A\n",
    "#A function that takes a list/tuple/dictionary(values will be integers)-\n",
    "#of integers as a parameterand returns their sum. \n",
    "#case of using the built-in sum() function is not allowed\n",
    "\n",
    "def summationa(parameter):\n",
    "    add = 0\n",
    "    if type(parameter)==list:\n",
    "        \n",
    "        for r in parameter:\n",
    "            add+= r\n",
    "    else:\n",
    "        for r in parameter.values():\n",
    "            add+= r\n",
    "            \n",
    "    \n",
    "    return add\n",
    "    \n"
   ]
  },
  {
   "cell_type": "code",
   "execution_count": 171,
   "metadata": {},
   "outputs": [
    {
     "data": {
      "text/plain": [
       "27"
      ]
     },
     "execution_count": 171,
     "metadata": {},
     "output_type": "execute_result"
    }
   ],
   "source": [
    "summationa([2,4,6,8,7])"
   ]
  },
  {
   "cell_type": "code",
   "execution_count": 173,
   "metadata": {},
   "outputs": [
    {
     "data": {
      "text/plain": [
       "27"
      ]
     },
     "execution_count": 173,
     "metadata": {},
     "output_type": "execute_result"
    }
   ],
   "source": [
    "summationa({\"one\":2,\"two\":4,\"three\":6,\"four\":8,\"five\":7})"
   ]
  },
  {
   "cell_type": "code",
   "execution_count": 174,
   "metadata": {},
   "outputs": [],
   "source": [
    "#4B\n",
    "#Case of using the built-in sum() function is allowed\n",
    "\n",
    "def summationb(parameter):\n",
    "    if type(parameter)==list:\n",
    "        return sum(parameter)\n",
    "    else:\n",
    "        return(sum(parameter.values()))\n",
    "\n"
   ]
  },
  {
   "cell_type": "code",
   "execution_count": 175,
   "metadata": {},
   "outputs": [
    {
     "data": {
      "text/plain": [
       "27"
      ]
     },
     "execution_count": 175,
     "metadata": {},
     "output_type": "execute_result"
    }
   ],
   "source": [
    "summationb([2,4,6,8,7])"
   ]
  },
  {
   "cell_type": "code",
   "execution_count": 176,
   "metadata": {},
   "outputs": [
    {
     "data": {
      "text/plain": [
       "27"
      ]
     },
     "execution_count": 176,
     "metadata": {},
     "output_type": "execute_result"
    }
   ],
   "source": [
    "summationb({\"one\":2,\"two\":4,\"three\":6,\"four\":8,\"five\":7})"
   ]
  },
  {
   "cell_type": "markdown",
   "metadata": {},
   "source": [
    "### Answer 5"
   ]
  },
  {
   "cell_type": "code",
   "execution_count": 47,
   "metadata": {},
   "outputs": [
    {
     "ename": "IndentationError",
     "evalue": "expected an indented block (<ipython-input-47-05d3a76c5e1d>, line 10)",
     "output_type": "error",
     "traceback": [
      "\u001b[1;36m  File \u001b[1;32m\"<ipython-input-47-05d3a76c5e1d>\"\u001b[1;36m, line \u001b[1;32m10\u001b[0m\n\u001b[1;33m    username = input( \"Enter your username: \")\u001b[0m\n\u001b[1;37m    ^\u001b[0m\n\u001b[1;31mIndentationError\u001b[0m\u001b[1;31m:\u001b[0m expected an indented block\n"
     ]
    }
   ],
   "source": [
    "#5\n",
    "# A function that stores user input (username and password) in a dictionary.\n",
    "#The program should check if the username exist and if the password supplied is correct.\n",
    "\n",
    "login = {\"Adetutu\":\"123\", \"Tosin\": \"567\", \"Ayo\": \"890\"}\n",
    "\n",
    "#print(dict(login))\n",
    "\n",
    "def enter_input(username,password):\n",
    "    username = input( \"Enter your username: \")\n",
    "    password = input(\"Enter your password: \")\n",
    "    for username,password in login.items():\n",
    "        if username in login.keys:\n",
    "            if password in login.values:\n",
    "                print(\"The password is correct!\")\n",
    "        else:\n",
    "            print(\"password incorrect\")\n",
    "            \n",
    "    else:\n",
    "         print(\"username correct\")\n",
    "else:\n",
    "    print(\"username incorrect\")  \n",
    "    \n",
    "    \n",
    "return(username, password)  \n",
    "\n",
    "#details = {username:password for username,password in login.items()}\n",
    "#print(details)\n",
    "\n",
    " \n",
    "   "
   ]
  },
  {
   "cell_type": "code",
   "execution_count": 6,
   "metadata": {},
   "outputs": [],
   "source": [
    "database = {'joseph':'12345','ojo':'09876'}\n",
    "\n",
    "def take_input():\n",
    "    dicionary = {}\n",
    "    \n",
    "    #add new itens to a dictionary\n",
    "    dicionary['username'] = input(\"Enter Your Username: \")\n",
    "    dicionary['password'] = input(\"Enter Your password: \")\n",
    "    return(dicionary)"
   ]
  },
  {
   "cell_type": "code",
   "execution_count": null,
   "metadata": {},
   "outputs": [],
   "source": []
  }
 ],
 "metadata": {
  "kernelspec": {
   "display_name": "Python 3",
   "language": "python",
   "name": "python3"
  },
  "language_info": {
   "codemirror_mode": {
    "name": "ipython",
    "version": 3
   },
   "file_extension": ".py",
   "mimetype": "text/x-python",
   "name": "python",
   "nbconvert_exporter": "python",
   "pygments_lexer": "ipython3",
   "version": "3.8.5"
  }
 },
 "nbformat": 4,
 "nbformat_minor": 4
}
