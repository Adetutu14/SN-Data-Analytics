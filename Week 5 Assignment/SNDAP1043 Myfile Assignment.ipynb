{
 "cells": [
  {
   "cell_type": "code",
   "execution_count": 3,
   "metadata": {},
   "outputs": [],
   "source": [
    "#Creating a file with name myfile \n",
    "#opening the file and writing multiplication table 2 using loop and string formatting\n",
    "with open(\"myfile.txt\", \"w\") as myfile:\n",
    "    myfile.write(\"For multiplication table of 2!\\n\")\n",
    "    start_num = 1\n",
    "    two = 2\n",
    "    for multiples in range(1, 15+1):\n",
    "        myfile.write(f\"{two} * {start_num} = {2 * multiples} \\n\")\n",
    "        start_num +=1\n",
    "        if multiples == 12:\n",
    "            break\n",
    "            "
   ]
  },
  {
   "cell_type": "code",
   "execution_count": 2,
   "metadata": {},
   "outputs": [
    {
     "name": "stdout",
     "output_type": "stream",
     "text": [
      "For multiplication table of 2!\n",
      "2 * 1 = 2 \n",
      "2 * 2 = 4 \n",
      "2 * 3 = 6 \n",
      "2 * 4 = 8 \n",
      "2 * 5 = 10 \n",
      "2 * 6 = 12 \n",
      "2 * 7 = 14 \n",
      "2 * 8 = 16 \n",
      "2 * 9 = 18 \n",
      "2 * 10 = 20 \n",
      "2 * 11 = 22 \n",
      "2 * 12 = 24 \n",
      "\n",
      "Assignment on Multiplication table by 2 completed!\n"
     ]
    }
   ],
   "source": [
    "#Reading and printing the content of myfile\n",
    "with open(\"myfile.txt\",\"r\") as myfile:\n",
    "    print(myfile.read())\n",
    "    print(\"Assignment on Multiplication table by 2 completed!\")\n",
    "   \n",
    "            "
   ]
  },
  {
   "cell_type": "code",
   "execution_count": null,
   "metadata": {},
   "outputs": [],
   "source": []
  }
 ],
 "metadata": {
  "kernelspec": {
   "display_name": "Python 3",
   "language": "python",
   "name": "python3"
  },
  "language_info": {
   "codemirror_mode": {
    "name": "ipython",
    "version": 3
   },
   "file_extension": ".py",
   "mimetype": "text/x-python",
   "name": "python",
   "nbconvert_exporter": "python",
   "pygments_lexer": "ipython3",
   "version": "3.8.5"
  }
 },
 "nbformat": 4,
 "nbformat_minor": 4
}
