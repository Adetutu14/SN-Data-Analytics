{
 "cells": [
  {
   "cell_type": "markdown",
   "metadata": {},
   "source": [
    "## Assignment 1"
   ]
  },
  {
   "cell_type": "markdown",
   "metadata": {},
   "source": [
    "1. fromkeys()\tReturns a dictionary with the specified keys and value"
   ]
  },
  {
   "cell_type": "code",
   "execution_count": 8,
   "metadata": {},
   "outputs": [],
   "source": [
    "#fromkeys()\n",
    "fruit = (\"apple\", \"Orange\", \"Guava\")\n",
    "amount = 205\n",
    "\n",
    "def key_value(a,b):\n",
    "    the_keys = dict.fromkeys(a,b)\n",
    "    \n",
    "    return the_keys\n",
    "\n",
    "\n"
   ]
  },
  {
   "cell_type": "code",
   "execution_count": 9,
   "metadata": {},
   "outputs": [
    {
     "name": "stdout",
     "output_type": "stream",
     "text": [
      "{'apple': 205, 'Orange': 205, 'Guava': 205}\n"
     ]
    }
   ],
   "source": [
    "print(key_value(fruit, amount))"
   ]
  },
  {
   "cell_type": "markdown",
   "metadata": {},
   "source": [
    "2. get()\tReturns the value of the specified key"
   ]
  },
  {
   "cell_type": "code",
   "execution_count": 26,
   "metadata": {},
   "outputs": [
    {
     "data": {
      "text/plain": [
       "'Adetutu'"
      ]
     },
     "execution_count": 26,
     "metadata": {},
     "output_type": "execute_result"
    }
   ],
   "source": [
    "#get()\n",
    "Education = {\"Name\": \"Adetutu\",\n",
    "             \"School\": \"Unilag\",\n",
    "             \"Course\":\"Engineering\"\n",
    "    }\n",
    "\n",
    "Education.get(\"Name\")\n",
    "\n"
   ]
  },
  {
   "cell_type": "markdown",
   "metadata": {},
   "source": [
    "3. items()\tReturns a list containing a tuple for each key value pair"
   ]
  },
  {
   "cell_type": "code",
   "execution_count": 28,
   "metadata": {},
   "outputs": [
    {
     "data": {
      "text/plain": [
       "dict_items([('Adetutu', 'strawberry'), ('Benjamin', 'vanilla'), ('Cole', 'chocolate')])"
      ]
     },
     "execution_count": 28,
     "metadata": {},
     "output_type": "execute_result"
    }
   ],
   "source": [
    "#items()\n",
    "\n",
    "ice_cream = {\"Adetutu\": \"strawberry\",\n",
    "             \"Benjamin\":\"vanilla\",\n",
    "             \"Cole\": \"chocolate\" \n",
    "}\n",
    "\n",
    "ice_cream.items()\n"
   ]
  },
  {
   "cell_type": "markdown",
   "metadata": {},
   "source": [
    "4. keys()\tReturns a list containing the dictionary's keys"
   ]
  },
  {
   "cell_type": "code",
   "execution_count": 30,
   "metadata": {},
   "outputs": [
    {
     "data": {
      "text/plain": [
       "dict_keys(['Adetutu', 'Benjamin', 'Cole'])"
      ]
     },
     "execution_count": 30,
     "metadata": {},
     "output_type": "execute_result"
    }
   ],
   "source": [
    "#keys()\n",
    "\n",
    "ice_cream = {\"Adetutu\": \"strawberry\",\n",
    "             \"Benjamin\":\"vanilla\",\n",
    "             \"Cole\": \"chocolate\" \n",
    "}\n",
    "\n",
    "ice_cream.keys()\n"
   ]
  },
  {
   "cell_type": "markdown",
   "metadata": {},
   "source": [
    "5. pop()\tRemoves the element with the specified key"
   ]
  },
  {
   "cell_type": "code",
   "execution_count": 47,
   "metadata": {},
   "outputs": [],
   "source": [
    "#pop()\n",
    "\n",
    "released_dates = {\n",
    "    \"Python\": 1991, \n",
    "    \"Ruby\": 1995,\n",
    "    \"Java\": 1995, \n",
    "    \"Go\": 2007\n",
    "}\n",
    "\n",
    "Numb = released_dates.pop(\"Ruby\")\n",
    "\n",
    "#note that the pop value is still in the system and can be called out using;\n",
    "#print(Numb)"
   ]
  },
  {
   "cell_type": "code",
   "execution_count": 34,
   "metadata": {},
   "outputs": [
    {
     "name": "stdout",
     "output_type": "stream",
     "text": [
      "{'Python': 1991, 'Java': 1995, 'Go': 2007}\n"
     ]
    }
   ],
   "source": [
    "print(released_dates)"
   ]
  },
  {
   "cell_type": "markdown",
   "metadata": {},
   "source": [
    "6. popitem()\tRemoves the last inserted key-value pair"
   ]
  },
  {
   "cell_type": "code",
   "execution_count": 48,
   "metadata": {},
   "outputs": [
    {
     "data": {
      "text/plain": [
       "('Go', 2007)"
      ]
     },
     "execution_count": 48,
     "metadata": {},
     "output_type": "execute_result"
    }
   ],
   "source": [
    "#6 popitem()\n",
    "#thie method doesnt take in any argument.\n",
    "released_dates = {\"Python\": 1991,\n",
    "                  \"Ruby\": 1995,\n",
    "                  \"Java\": 1995,\n",
    "                  \"Go\": 2007\n",
    "                 }\n",
    "\n",
    "released_dates.popitem()\n"
   ]
  },
  {
   "cell_type": "markdown",
   "metadata": {},
   "source": [
    "7. setdefault()\tReturns the value of the specified key. \n",
    "If the key does not exist: insert the key, with the specified value"
   ]
  },
  {
   "cell_type": "code",
   "execution_count": 56,
   "metadata": {},
   "outputs": [
    {
     "data": {
      "text/plain": [
       "2004"
      ]
     },
     "execution_count": 56,
     "metadata": {},
     "output_type": "execute_result"
    }
   ],
   "source": [
    "#setdefault()\n",
    "\n",
    "released_date = {\n",
    "    \"Python\": 1991, \n",
    "    \"Ruby\": 1995,\n",
    "    \"Java\": 1995, \n",
    "}\n",
    "\n",
    "new_add = released_date.setdefault(\"Rust\", 2004)\n",
    "\n",
    "new_add"
   ]
  },
  {
   "cell_type": "code",
   "execution_count": 57,
   "metadata": {},
   "outputs": [
    {
     "name": "stdout",
     "output_type": "stream",
     "text": [
      "{'Python': 1991, 'Ruby': 1995, 'Java': 1995, 'Rust': 2004}\n"
     ]
    }
   ],
   "source": [
    "#This is a case of the key not existing in the dictonary.\n",
    "\n",
    "print(released_date)"
   ]
  },
  {
   "cell_type": "code",
   "execution_count": 60,
   "metadata": {},
   "outputs": [
    {
     "data": {
      "text/plain": [
       "1995"
      ]
     },
     "execution_count": 60,
     "metadata": {},
     "output_type": "execute_result"
    }
   ],
   "source": [
    "#if key exist, the parameter has no effect\n",
    "#for instance, below is a case an existing key in the dictionary.\n",
    "\n",
    "new_add = released_date.setdefault(\"Ruby\", 2000)\n",
    "\n",
    "new_add"
   ]
  },
  {
   "cell_type": "markdown",
   "metadata": {},
   "source": [
    "8. update()\tUpdates the dictionary with the specified key-value pairs\n"
   ]
  },
  {
   "cell_type": "code",
   "execution_count": 73,
   "metadata": {},
   "outputs": [
    {
     "name": "stdout",
     "output_type": "stream",
     "text": [
      "{'Adetutu': 'Gelato', 'Benjamin': 'vanilla', 'Cole': 'chocolate', 'Sandy': 'banana'}\n"
     ]
    }
   ],
   "source": [
    "#update\n",
    "ice_cream = {\"Adetutu\": \"strawberry\",\n",
    "             \"Benjamin\":\"vanilla\",\n",
    "             \"Cole\": \"chocolate\" \n",
    "             \n",
    "}\n",
    "\n",
    "more_icecream = {\"Sandy\":\"banana\", \"Adetutu\": \"Gelato\"}\n",
    "\n",
    "ice_cream.update(more_icecream)\n",
    "\n",
    "print(ice_cream)\n",
    "\n",
    "#Here, the output is updated by adding the new key and value and aslo updating key, Adetutu with the new value gelato.\n"
   ]
  },
  {
   "cell_type": "markdown",
   "metadata": {},
   "source": [
    "9. values()\tReturns a list of all the values in the dictionary"
   ]
  },
  {
   "cell_type": "code",
   "execution_count": 74,
   "metadata": {},
   "outputs": [
    {
     "data": {
      "text/plain": [
       "dict_values(['strawberry', 'vanilla', 'chocolate'])"
      ]
     },
     "execution_count": 74,
     "metadata": {},
     "output_type": "execute_result"
    }
   ],
   "source": [
    "#values()\n",
    "\n",
    "ice_cream = {\"Adetutu\": \"strawberry\",\n",
    "             \"Benjamin\":\"vanilla\",\n",
    "             \"Cole\": \"chocolate\" \n",
    "}\n",
    "\n",
    "ice_cream.values()\n",
    "\n"
   ]
  },
  {
   "cell_type": "markdown",
   "metadata": {},
   "source": [
    "## Assignment 2"
   ]
  },
  {
   "cell_type": "code",
   "execution_count": null,
   "metadata": {},
   "outputs": [],
   "source": []
  }
 ],
 "metadata": {
  "kernelspec": {
   "display_name": "Python 3",
   "language": "python",
   "name": "python3"
  },
  "language_info": {
   "codemirror_mode": {
    "name": "ipython",
    "version": 3
   },
   "file_extension": ".py",
   "mimetype": "text/x-python",
   "name": "python",
   "nbconvert_exporter": "python",
   "pygments_lexer": "ipython3",
   "version": "3.8.5"
  }
 },
 "nbformat": 4,
 "nbformat_minor": 4
}
